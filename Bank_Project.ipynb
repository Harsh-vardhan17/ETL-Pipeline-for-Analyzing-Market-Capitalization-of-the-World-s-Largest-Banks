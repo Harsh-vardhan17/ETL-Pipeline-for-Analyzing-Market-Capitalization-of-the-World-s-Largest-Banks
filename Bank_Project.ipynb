{
  "nbformat": 4,
  "nbformat_minor": 0,
  "metadata": {
    "colab": {
      "provenance": []
    },
    "kernelspec": {
      "name": "python3",
      "display_name": "Python 3"
    },
    "language_info": {
      "name": "python"
    }
  },
  "cells": [
    {
      "cell_type": "markdown",
      "source": [
        "# ***`ETL Pipeline for Analyzing Market Capitalization of the World's Largest Banks`***\n",
        "\n",
        "\n",
        "\n",
        "\n",
        "\n"
      ],
      "metadata": {
        "id": "GNy_MKuiH2gZ"
      }
    },
    {
      "cell_type": "markdown",
      "source": [
        "# ***Importing All Necessary Libraries***"
      ],
      "metadata": {
        "id": "vuHnC5MxGG3o"
      }
    },
    {
      "cell_type": "code",
      "source": [
        "import pandas as pd\n",
        "import numpy as np\n",
        "import sqlite3\n",
        "import requests\n",
        "from bs4 import BeautifulSoup\n",
        "from datetime import datetime"
      ],
      "metadata": {
        "id": "NEMCXp2WFgHL"
      },
      "execution_count": 70,
      "outputs": []
    },
    {
      "cell_type": "markdown",
      "source": [
        "# ***Function to Log Process***"
      ],
      "metadata": {
        "id": "bnld8v2qGXDG"
      }
    },
    {
      "cell_type": "code",
      "source": [
        "def log_progress(message):\n",
        "    \"\"\"Logs the progress of the code to a text file in the specified format.\"\"\"\n",
        "    timestamp = datetime.now().strftime(\"%Y-%m-%d %H:%M:%S\")\n",
        "    log_entry = f\"{timestamp} : {message}\\n\"\n",
        "\n",
        "    # Write the log entry to the file\n",
        "    with open(\"code_log.txt\", \"a\") as log_file:\n",
        "        log_file.write(log_entry)\n",
        "\n",
        "log_progress(\"Preliminaries complete. Initiating ETL process\")\n"
      ],
      "metadata": {
        "id": "UbieUdRYWd2Y"
      },
      "execution_count": 71,
      "outputs": []
    },
    {
      "cell_type": "markdown",
      "source": [
        "# ***Extract***"
      ],
      "metadata": {
        "id": "n1aVztCPGkCR"
      }
    },
    {
      "cell_type": "code",
      "source": [
        "def extract(url):\n",
        "    \"\"\"Extracts the table under 'By market capitalization' and returns a Pandas DataFrame.\"\"\"\n",
        "    log_progress(\"Fetching webpage...\")\n",
        "    response = requests.get(url)\n",
        "    if response.status_code != 200:\n",
        "        log_progress(f\"Failed to fetch data from {url}\")\n",
        "        raise Exception(\"Failed to fetch data from the website\")\n",
        "\n",
        "    log_progress(\"Webpage fetched successfully. Parsing HTML...\")\n",
        "    soup = BeautifulSoup(response.text, 'html.parser')\n",
        "\n",
        "    # Locate the table\n",
        "    table = soup.find('table', {'class': 'wikitable sortable'})\n",
        "    if not table:\n",
        "        log_progress(\"Failed to find the table with the class 'wikitable sortable'.\")\n",
        "        raise Exception(\"Table not found in the webpage\")\n",
        "\n",
        "    log_progress(\"Table found. Reading data into a DataFrame...\")\n",
        "    df = pd.read_html(str(table))[0]\n",
        "\n",
        "    df.rename(columns={'Name': 'Name', 'Market cap(US$ billion)': 'MC_USD_Billion'}, inplace=True)\n",
        "\n",
        "    df['MC_USD_Billion'] = df['MC_USD_Billion'].astype(str).str.replace(r'\\n', '', regex=True).astype(float)\n",
        "\n",
        "    log_progress(\"Data extraction complete. Returning DataFrame.\")\n",
        "    return df\n"
      ],
      "metadata": {
        "id": "xFY4xEUfWuQt"
      },
      "execution_count": 72,
      "outputs": []
    },
    {
      "cell_type": "code",
      "source": [
        "\n",
        "!cat code_log.txt\n",
        "\n",
        "from google.colab import files\n",
        "files.download('code_log.txt')\n"
      ],
      "metadata": {
        "colab": {
          "base_uri": "https://localhost:8080/",
          "height": 1000
        },
        "id": "r6Ag1LZ-WuFf",
        "outputId": "285c652d-de4a-4028-e09b-4091c99e7997"
      },
      "execution_count": 73,
      "outputs": [
        {
          "output_type": "stream",
          "name": "stdout",
          "text": [
            "2024-12-26 23:26:35 : Data extraction complete. Initiating Transformation process\n",
            "2024-12-26 23:26:46 : Data transformation complete. Returning the transformed DataFrame\n",
            "2024-12-26 23:29:40 : Starting data extraction process.\n",
            "2024-12-26 23:29:41 : Table not found on the webpage.\n",
            "2024-12-26 23:33:11 : Starting data extraction process.\n",
            "2024-12-26 23:33:12 : Table not found on the webpage.\n",
            "2024-12-26 23:33:52 : Starting data extraction process.\n",
            "2024-12-26 23:33:53 : Table not found on the webpage.\n",
            "2024-12-26 23:36:33 : Starting data extraction process.\n",
            "2024-12-26 23:38:07 : Starting data extraction process.\n",
            "2024-12-26 23:38:08 : Number of tables found: 3\n",
            "2024-12-26 23:38:08 : Columns after renaming: Index(['Rank', 'Bank name', 'MC_USD_Billion'], dtype='object')\n",
            "2024-12-26 23:38:08 : Data extraction complete. Initiating transformation process.\n",
            "2024-12-26 23:38:17 : Starting data extraction process.\n",
            "2024-12-26 23:38:17 : Number of tables found: 3\n",
            "2024-12-26 23:38:17 : Columns after renaming: Index(['Rank', 'Bank name', 'MC_USD_Billion'], dtype='object')\n",
            "2024-12-26 23:38:17 : Data extraction complete. Initiating transformation process.\n",
            "2024-12-26 23:38:17 : Data transformation complete. Returning the transformed DataFrame.\n",
            "2024-12-26 23:38:17 : Data saved to CSV file at Largest_banks_data.csv\n",
            "2024-12-26 23:38:17 : SQL Connection initiated to Banks.db\n",
            "2024-12-26 23:38:17 : Data loaded to database 'Banks.db' in table 'Largest_banks'\n",
            "2024-12-26 23:38:17 : SQL Connection to Banks.db closed successfully\n",
            "2024-12-26 23:38:17 : Executing query: SELECT * FROM Largest_banks\n",
            "2024-12-26 23:38:17 : Query executed successfully.\n",
            "2024-12-26 23:38:17 : SQL Connection to Banks.db closed after query execution.\n",
            "2024-12-26 23:38:17 : Executing query: SELECT AVG(MC_GBP_Billion) FROM Largest_banks\n",
            "2024-12-26 23:38:17 : Query executed successfully.\n",
            "2024-12-26 23:38:17 : SQL Connection to Banks.db closed after query execution.\n",
            "2024-12-26 23:38:17 : Executing query: SELECT Name FROM Largest_banks LIMIT 5\n",
            "2024-12-26 23:40:21 : Columns after renaming: Index(['Rank', 'Name', 'MC_USD_Billion', 'MC_GBP_Billion', 'MC_EUR_Billion',\n",
            "       'MC_INR_Billion'],\n",
            "      dtype='object')\n",
            "2024-12-26 23:40:31 : Executing query: PRAGMA table_info(Largest_banks);\n",
            "2024-12-26 23:40:31 : Query executed successfully.\n",
            "2024-12-26 23:40:31 : SQL Connection to Banks.db closed after query execution.\n",
            "2024-12-26 23:41:15 : Starting data extraction process.\n",
            "2024-12-26 23:41:15 : Number of tables found: 3\n",
            "2024-12-26 23:41:15 : Columns after renaming: Index(['Rank', 'Bank name', 'MC_USD_Billion'], dtype='object')\n",
            "2024-12-26 23:41:15 : Data extraction complete. Initiating transformation process.\n",
            "2024-12-26 23:41:15 : Data transformation complete. Returning the transformed DataFrame.\n",
            "2024-12-26 23:41:15 : Data saved to CSV file at Largest_banks_data.csv\n",
            "2024-12-26 23:41:15 : SQL Connection initiated to Banks.db\n",
            "2024-12-26 23:41:15 : Data loaded to database 'Banks.db' in table 'Largest_banks'\n",
            "2024-12-26 23:41:15 : SQL Connection to Banks.db closed successfully\n",
            "2024-12-26 23:41:15 : Executing query: SELECT * FROM Largest_banks\n",
            "2024-12-26 23:41:15 : Query executed successfully.\n",
            "2024-12-26 23:41:15 : SQL Connection to Banks.db closed after query execution.\n",
            "2024-12-26 23:41:15 : Executing query: SELECT AVG(MC_GBP_Billion) FROM Largest_banks\n",
            "2024-12-26 23:41:15 : Query executed successfully.\n",
            "2024-12-26 23:41:15 : SQL Connection to Banks.db closed after query execution.\n",
            "2024-12-26 23:41:15 : Executing query: SELECT Name FROM Largest_banks LIMIT 5\n",
            "2024-12-26 23:41:15 : Error executing query: Execution failed on sql 'SELECT Name FROM Largest_banks LIMIT 5': no such column: Name\n",
            "2024-12-26 23:42:45 : Preliminaries complete. Initiating ETL process\n",
            "2024-12-27 03:06:55 : Starting data extraction process.\n",
            "2024-12-27 03:06:56 : Number of tables found: 3\n",
            "2024-12-27 03:06:56 : Columns after renaming: Index(['Rank', 'Bank name', 'MC_USD_Billion'], dtype='object')\n",
            "2024-12-27 03:06:56 : Data extraction complete. Initiating transformation process.\n",
            "2024-12-27 03:06:56 : Starting data transformation process.\n",
            "2024-12-27 03:07:05 : Starting data extraction process.\n",
            "2024-12-27 03:07:05 : Number of tables found: 3\n",
            "2024-12-27 03:07:05 : Columns after renaming: Index(['Rank', 'Bank name', 'MC_USD_Billion'], dtype='object')\n",
            "2024-12-27 03:07:05 : Data extraction complete. Initiating transformation process.\n",
            "2024-12-27 03:07:05 : Starting data transformation process.\n",
            "2024-12-27 03:07:05 : Data transformation complete. Returning the transformed DataFrame.\n",
            "2024-12-27 03:07:05 : Starting data loading to CSV process.\n",
            "2024-12-27 03:07:05 : Data saved to CSV file at Largest_banks_data.csv\n",
            "2024-12-27 03:07:05 : Starting data loading to database process.\n",
            "2024-12-27 03:07:05 : Data loaded to database 'Banks.db' in table 'Largest_banks'\n",
            "2024-12-27 03:07:05 : SQL Connection to Banks.db closed successfully\n",
            "2024-12-27 03:07:05 : Executing query: SELECT * FROM Largest_banks\n",
            "2024-12-27 03:07:05 : Query executed successfully.\n",
            "2024-12-27 03:07:05 : SQL Connection to Banks.db closed after query execution.\n",
            "2024-12-27 03:07:05 : Executing query: SELECT AVG(MC_GBP_Billion) FROM Largest_banks\n",
            "2024-12-27 03:07:05 : Query executed successfully.\n",
            "2024-12-27 03:07:05 : SQL Connection to Banks.db closed after query execution.\n",
            "2024-12-27 03:07:05 : Executing query: SELECT Name FROM Largest_banks LIMIT 5\n",
            "2024-12-27 03:07:33 : Starting data extraction process.\n",
            "2024-12-27 03:07:34 : Number of tables found: 3\n",
            "2024-12-27 03:07:34 : Columns after renaming: Index(['Rank', 'Bank name', 'MC_USD_Billion'], dtype='object')\n",
            "2024-12-27 03:07:34 : Data extraction complete. Initiating transformation process.\n",
            "2024-12-27 03:07:34 : Starting data transformation process.\n",
            "2024-12-27 03:07:34 : Data transformation complete. Returning the transformed DataFrame.\n",
            "2024-12-27 03:07:34 : Starting data loading to CSV process.\n",
            "2024-12-27 03:07:34 : Data saved to CSV file at Largest_banks_data.csv\n",
            "2024-12-27 03:07:34 : Starting data loading to database process.\n",
            "2024-12-27 03:07:34 : Data loaded to database 'Banks.db' in table 'Largest_banks'\n",
            "2024-12-27 03:07:34 : SQL Connection to Banks.db closed successfully\n",
            "2024-12-27 03:07:34 : Executing query: SELECT * FROM Largest_banks\n",
            "2024-12-27 03:07:34 : Query executed successfully.\n",
            "2024-12-27 03:07:34 : SQL Connection to Banks.db closed after query execution.\n",
            "2024-12-27 03:07:34 : Executing query: SELECT AVG(MC_GBP_Billion) FROM Largest_banks\n",
            "2024-12-27 03:07:34 : Query executed successfully.\n",
            "2024-12-27 03:07:34 : SQL Connection to Banks.db closed after query execution.\n",
            "2024-12-27 03:07:34 : Executing query: SELECT Name FROM Largest_banks LIMIT 5\n",
            "2024-12-27 03:10:01 : Preliminaries complete. Initiating ETL process\n"
          ]
        },
        {
          "output_type": "display_data",
          "data": {
            "text/plain": [
              "<IPython.core.display.Javascript object>"
            ],
            "application/javascript": [
              "\n",
              "    async function download(id, filename, size) {\n",
              "      if (!google.colab.kernel.accessAllowed) {\n",
              "        return;\n",
              "      }\n",
              "      const div = document.createElement('div');\n",
              "      const label = document.createElement('label');\n",
              "      label.textContent = `Downloading \"${filename}\": `;\n",
              "      div.appendChild(label);\n",
              "      const progress = document.createElement('progress');\n",
              "      progress.max = size;\n",
              "      div.appendChild(progress);\n",
              "      document.body.appendChild(div);\n",
              "\n",
              "      const buffers = [];\n",
              "      let downloaded = 0;\n",
              "\n",
              "      const channel = await google.colab.kernel.comms.open(id);\n",
              "      // Send a message to notify the kernel that we're ready.\n",
              "      channel.send({})\n",
              "\n",
              "      for await (const message of channel.messages) {\n",
              "        // Send a message to notify the kernel that we're ready.\n",
              "        channel.send({})\n",
              "        if (message.buffers) {\n",
              "          for (const buffer of message.buffers) {\n",
              "            buffers.push(buffer);\n",
              "            downloaded += buffer.byteLength;\n",
              "            progress.value = downloaded;\n",
              "          }\n",
              "        }\n",
              "      }\n",
              "      const blob = new Blob(buffers, {type: 'application/binary'});\n",
              "      const a = document.createElement('a');\n",
              "      a.href = window.URL.createObjectURL(blob);\n",
              "      a.download = filename;\n",
              "      div.appendChild(a);\n",
              "      a.click();\n",
              "      div.remove();\n",
              "    }\n",
              "  "
            ]
          },
          "metadata": {}
        },
        {
          "output_type": "display_data",
          "data": {
            "text/plain": [
              "<IPython.core.display.Javascript object>"
            ],
            "application/javascript": [
              "download(\"download_3b766407-de46-4763-8df9-ebd8dfaab2da\", \"code_log.txt\", 6728)"
            ]
          },
          "metadata": {}
        }
      ]
    },
    {
      "cell_type": "code",
      "source": [
        "def extract(url):\n",
        "    \"\"\"Extracts the table under 'By market capitalization' and returns a Pandas DataFrame.\"\"\"\n",
        "    import pandas as pd\n",
        "    import requests\n",
        "    from bs4 import BeautifulSoup\n",
        "\n",
        "    # Fetch the webpage\n",
        "    response = requests.get(url)\n",
        "    if response.status_code != 200:\n",
        "        raise Exception(\"Failed to fetch the webpage\")\n",
        "\n",
        "    # Read all tables\n",
        "    tables = pd.read_html(response.text)\n",
        "    print(f\"Number of tables found: {len(tables)}\")\n",
        "\n",
        "    # Assuming the table of interest is at index 0\n",
        "    df = tables[0]\n",
        "\n",
        "    # Debug: Print column names\n",
        "    print(\"Column names in the DataFrame:\", df.columns)\n",
        "\n",
        "    return df\n"
      ],
      "metadata": {
        "id": "q9r10aGaWxrQ"
      },
      "execution_count": 74,
      "outputs": []
    },
    {
      "cell_type": "code",
      "source": [
        "def extract(url):\n",
        "    \"\"\"Extracts the table under 'By market capitalization' and returns a Pandas DataFrame.\"\"\"\n",
        "    import pandas as pd\n",
        "    import requests\n",
        "\n",
        "    # Fetch the webpage\n",
        "    response = requests.get(url)\n",
        "    if response.status_code != 200:\n",
        "        raise Exception(\"Failed to fetch the webpage\")\n",
        "\n",
        "    # Read all tables\n",
        "    tables = pd.read_html(response.text)\n",
        "\n",
        "    # Assuming the table of interest is at index 0\n",
        "    df = tables[0]\n",
        "\n",
        "    # Debug: Print the raw DataFrame\n",
        "    print(\"Raw DataFrame:\\n\", df.head())\n",
        "\n",
        "    # Dynamically rename columns\n",
        "    for col in df.columns:\n",
        "        if 'Name' in col:\n",
        "            df.rename(columns={col: 'Name'}, inplace=True)\n",
        "        if 'Market cap' in col:\n",
        "            df.rename(columns={col: 'MC_USD_Billion'}, inplace=True)\n",
        "\n",
        "    # Debug: Print updated DataFrame\n",
        "    print(\"Updated DataFrame:\\n\", df.head())\n",
        "\n",
        "    # Convert the market cap column to float (if applicable)\n",
        "    if 'MC_USD_Billion' in df.columns:\n",
        "        df['MC_USD_Billion'] = df['MC_USD_Billion'].astype(str).str.replace(r'\\n', '', regex=True).astype(float)\n",
        "\n",
        "    return df\n"
      ],
      "metadata": {
        "id": "4r_m6E9hW9XD"
      },
      "execution_count": 75,
      "outputs": []
    },
    {
      "cell_type": "code",
      "source": [
        "def extract(url):\n",
        "    \"\"\"Extracts the table under 'By market capitalization' and returns a Pandas DataFrame.\"\"\"\n",
        "    import pandas as pd\n",
        "    import requests\n",
        "\n",
        "    # Fetch the webpage\n",
        "    response = requests.get(url)\n",
        "    if response.status_code != 200:\n",
        "        raise Exception(\"Failed to fetch the webpage\")\n",
        "\n",
        "    # Read all tables\n",
        "    tables = pd.read_html(response.text)\n",
        "\n",
        "    # Assuming the table of interest is at index 0\n",
        "    df = tables[0]\n",
        "\n",
        "    # Dynamically rename columns using case-insensitive matching\n",
        "    df.rename(columns=lambda col: 'Name' if 'name' in col.lower() else col, inplace=True)\n",
        "    df.rename(columns=lambda col: 'MC_USD_Billion' if 'market cap' in col.lower() else col, inplace=True)\n",
        "\n",
        "    # Debug: Print the updated DataFrame\n",
        "    print(\"Updated DataFrame:\\n\", df.head())\n",
        "\n",
        "    # Convert the market cap column to float (if applicable)\n",
        "    if 'MC_USD_Billion' in df.columns:\n",
        "        df['MC_USD_Billion'] = df['MC_USD_Billion'].astype(str).str.replace(r'\\n', '', regex=True).astype(float)\n",
        "\n",
        "    return df\n"
      ],
      "metadata": {
        "id": "kXDOAJVCW_80"
      },
      "execution_count": 76,
      "outputs": []
    },
    {
      "cell_type": "code",
      "source": [
        "url = \"https://web.archive.org/web/20230908091635/https://en.wikipedia.org/wiki/List_of_largest_banks\"\n",
        "df = extract(url)\n",
        "print(df.head())\n"
      ],
      "metadata": {
        "colab": {
          "base_uri": "https://localhost:8080/"
        },
        "id": "teoUSc3OXBnK",
        "outputId": "b4c29776-ab4d-4ada-ba3d-8d2be3413fc7"
      },
      "execution_count": 77,
      "outputs": [
        {
          "output_type": "stream",
          "name": "stdout",
          "text": [
            "Updated DataFrame:\n",
            "    Rank                                     Name  MC_USD_Billion\n",
            "0     1                           JPMorgan Chase          432.92\n",
            "1     2                          Bank of America          231.52\n",
            "2     3  Industrial and Commercial Bank of China          194.56\n",
            "3     4               Agricultural Bank of China          160.68\n",
            "4     5                                HDFC Bank          157.91\n",
            "   Rank                                     Name  MC_USD_Billion\n",
            "0     1                           JPMorgan Chase          432.92\n",
            "1     2                          Bank of America          231.52\n",
            "2     3  Industrial and Commercial Bank of China          194.56\n",
            "3     4               Agricultural Bank of China          160.68\n",
            "4     5                                HDFC Bank          157.91\n"
          ]
        },
        {
          "output_type": "stream",
          "name": "stderr",
          "text": [
            "<ipython-input-76-4665b41071d2>:12: FutureWarning: Passing literal html to 'read_html' is deprecated and will be removed in a future version. To read from a literal string, wrap it in a 'StringIO' object.\n",
            "  tables = pd.read_html(response.text)\n"
          ]
        }
      ]
    },
    {
      "cell_type": "markdown",
      "source": [
        "# ***Transform***"
      ],
      "metadata": {
        "id": "VX62kbteG-wN"
      }
    },
    {
      "cell_type": "code",
      "source": [
        "def log_progress(message):\n",
        "    \"\"\"Logs the progress of the code to a text file and displays it inline.\"\"\"\n",
        "    from datetime import datetime\n",
        "    timestamp = datetime.now().strftime(\"%Y-%m-%d %H:%M:%S\")\n",
        "    log_entry = f\"{timestamp} : {message}\\n\"\n",
        "\n",
        "    # Save logs to a file\n",
        "    with open(\"code_log.txt\", \"a\") as log_file:\n",
        "        log_file.write(log_entry)\n",
        "\n",
        "    # Display the log in the Colab output\n",
        "    print(log_entry)\n",
        "\n",
        "def transform(df, csv_path):\n",
        "    \"\"\"\n",
        "    Transforms the DataFrame by adding columns for GBP, EUR, and INR market capitalizations.\n",
        "    \"\"\"\n",
        "    # Step 1: Read the exchange rate CSV into a dictionary\n",
        "    exchange_rate_data = pd.read_csv(csv_path)\n",
        "    exchange_rate = dict(zip(exchange_rate_data['Currency'], exchange_rate_data['Rate']))\n",
        "\n",
        "    # Step 2: Add transformed columns\n",
        "    df['MC_GBP_Billion'] = [np.round(x * exchange_rate['GBP'], 2) for x in df['MC_USD_Billion']]\n",
        "    df['MC_EUR_Billion'] = [np.round(x * exchange_rate['EUR'], 2) for x in df['MC_USD_Billion']]\n",
        "    df['MC_INR_Billion'] = [np.round(x * exchange_rate['INR'], 2) for x in df['MC_USD_Billion']]\n",
        "\n",
        "    # Log the transformation process\n",
        "    log_progress(\"Data transformation complete. Returning the transformed DataFrame.\")\n",
        "    return df\n",
        "\n",
        "url = \"https://web.archive.org/web/20230908091635/https://en.wikipedia.org/wiki/List_of_largest_banks\"\n",
        "exchange_csv_path = \"exchange_rate.csv\"\n",
        "\n",
        "\n",
        "df = extract(url)\n",
        "\n",
        "df_transformed = transform(df, exchange_csv_path)\n",
        "\n",
        "\n",
        "print(df_transformed)\n",
        "\n",
        "\n",
        "print(\"Market capitalization of the 5th largest bank in billion EUR:\", df_transformed['MC_EUR_Billion'][4])\n"
      ],
      "metadata": {
        "colab": {
          "base_uri": "https://localhost:8080/"
        },
        "id": "xnOm8ShcXEQ4",
        "outputId": "4cfd8363-6f37-490c-f4aa-33ed16e9d8ef"
      },
      "execution_count": 78,
      "outputs": [
        {
          "output_type": "stream",
          "name": "stdout",
          "text": [
            "Updated DataFrame:\n",
            "    Rank                                     Name  MC_USD_Billion\n",
            "0     1                           JPMorgan Chase          432.92\n",
            "1     2                          Bank of America          231.52\n",
            "2     3  Industrial and Commercial Bank of China          194.56\n",
            "3     4               Agricultural Bank of China          160.68\n",
            "4     5                                HDFC Bank          157.91\n",
            "2024-12-27 03:10:24 : Data transformation complete. Returning the transformed DataFrame.\n",
            "\n",
            "   Rank                                     Name  MC_USD_Billion  \\\n",
            "0     1                           JPMorgan Chase          432.92   \n",
            "1     2                          Bank of America          231.52   \n",
            "2     3  Industrial and Commercial Bank of China          194.56   \n",
            "3     4               Agricultural Bank of China          160.68   \n",
            "4     5                                HDFC Bank          157.91   \n",
            "5     6                              Wells Fargo          155.87   \n",
            "6     7                        HSBC Holdings PLC          148.90   \n",
            "7     8                           Morgan Stanley          140.83   \n",
            "8     9                  China Construction Bank          139.82   \n",
            "9    10                            Bank of China          136.81   \n",
            "\n",
            "   MC_GBP_Billion  MC_EUR_Billion  MC_INR_Billion  \n",
            "0          346.34          402.62        35910.71  \n",
            "1          185.22          215.31        19204.58  \n",
            "2          155.65          180.94        16138.75  \n",
            "3          128.54          149.43        13328.41  \n",
            "4          126.33          146.86        13098.63  \n",
            "5          124.70          144.96        12929.42  \n",
            "6          119.12          138.48        12351.26  \n",
            "7          112.66          130.97        11681.85  \n",
            "8          111.86          130.03        11598.07  \n",
            "9          109.45          127.23        11348.39  \n",
            "Market capitalization of the 5th largest bank in billion EUR: 146.86\n"
          ]
        },
        {
          "output_type": "stream",
          "name": "stderr",
          "text": [
            "<ipython-input-76-4665b41071d2>:12: FutureWarning: Passing literal html to 'read_html' is deprecated and will be removed in a future version. To read from a literal string, wrap it in a 'StringIO' object.\n",
            "  tables = pd.read_html(response.text)\n"
          ]
        }
      ]
    },
    {
      "cell_type": "markdown",
      "source": [
        "# ***Load***"
      ],
      "metadata": {
        "id": "B9j2K4yKHGdx"
      }
    },
    {
      "cell_type": "code",
      "source": [
        "def load_to_csv(df, output_path):\n",
        "    \"\"\"\n",
        "    Saves the transformed DataFrame to a CSV file at the specified path.\n",
        "    \"\"\"\n",
        "    try:\n",
        "        # Save the DataFrame to the CSV file\n",
        "        df.to_csv(output_path, index=False)\n",
        "\n",
        "        # Log the success message\n",
        "        log_progress(f\"Data saved to CSV file at {output_path}\")\n",
        "        print(f\"Data successfully saved to {output_path}\")\n",
        "    except Exception as e:\n",
        "        log_progress(f\"Failed to save data to CSV: {e}\")\n",
        "        raise\n",
        "\n",
        "# Example usage\n",
        "output_csv_path = \"Largest_banks_data.csv\"  # Path for saving the CSV file\n",
        "\n",
        "# Assuming the transformed DataFrame `df_transformed` is already available\n",
        "load_to_csv(df_transformed, output_csv_path)\n"
      ],
      "metadata": {
        "colab": {
          "base_uri": "https://localhost:8080/"
        },
        "id": "6QZj64DzXKYF",
        "outputId": "29e65d9f-4445-400e-cca9-e799ab2ea032"
      },
      "execution_count": 79,
      "outputs": [
        {
          "output_type": "stream",
          "name": "stdout",
          "text": [
            "2024-12-27 03:10:29 : Data saved to CSV file at Largest_banks_data.csv\n",
            "\n",
            "Data successfully saved to Largest_banks_data.csv\n"
          ]
        }
      ]
    },
    {
      "cell_type": "code",
      "source": [
        "def load_to_db(df, db_name, table_name):\n",
        "    \"\"\"\n",
        "    Loads the transformed DataFrame into an SQLite database table.\n",
        "    \"\"\"\n",
        "    try:\n",
        "        # Establish the connection to the SQLite database\n",
        "        conn = sqlite3.connect(db_name)\n",
        "        log_progress(f\"SQL Connection initiated to {db_name}\")\n",
        "\n",
        "        # Save the DataFrame to the database\n",
        "        df.to_sql(table_name, conn, if_exists='replace', index=False)\n",
        "        log_progress(f\"Data loaded to database '{db_name}' in table '{table_name}'\")\n",
        "\n",
        "        # Close the connection\n",
        "        conn.close()\n",
        "        log_progress(f\"SQL Connection to {db_name} closed successfully\")\n",
        "        print(f\"Data successfully loaded into the '{table_name}' table in database '{db_name}'\")\n",
        "\n",
        "    except Exception as e:\n",
        "        log_progress(f\"Failed to load data into the database: {e}\")\n",
        "        raise\n",
        "\n",
        "# Example usage\n",
        "db_name = \"Banks.db\"  # Database name\n",
        "table_name = \"Largest_banks\"  # Table name\n",
        "\n",
        "# Assuming the transformed DataFrame `df_transformed` is already available\n",
        "load_to_db(df_transformed, db_name, table_name)\n"
      ],
      "metadata": {
        "colab": {
          "base_uri": "https://localhost:8080/"
        },
        "id": "gQGrrT3xXSoR",
        "outputId": "5536f4f4-0a2f-4332-af69-d0c287b16ddb"
      },
      "execution_count": 80,
      "outputs": [
        {
          "output_type": "stream",
          "name": "stdout",
          "text": [
            "2024-12-27 03:10:32 : SQL Connection initiated to Banks.db\n",
            "\n",
            "2024-12-27 03:10:32 : Data loaded to database 'Banks.db' in table 'Largest_banks'\n",
            "\n",
            "2024-12-27 03:10:32 : SQL Connection to Banks.db closed successfully\n",
            "\n",
            "Data successfully loaded into the 'Largest_banks' table in database 'Banks.db'\n"
          ]
        }
      ]
    },
    {
      "cell_type": "code",
      "source": [
        "def load_to_csv(df, output_path):\n",
        "    \"\"\"\n",
        "    Saves the transformed DataFrame to a CSV file at the specified path.\n",
        "    \"\"\"\n",
        "    try:\n",
        "        df.to_csv(output_path, index=False)\n",
        "        log_progress(f\"Data saved to CSV file at {output_path}\")\n",
        "        print(f\"Data successfully saved to {output_path}\")\n",
        "    except Exception as e:\n",
        "        log_progress(f\"Failed to save data to CSV: {e}\")\n",
        "        raise\n",
        "\n",
        "def load_to_db(df, db_name, table_name):\n",
        "    \"\"\"\n",
        "    Loads the transformed DataFrame into an SQLite database table.\n",
        "    \"\"\"\n",
        "    try:\n",
        "        conn = sqlite3.connect(db_name)\n",
        "        log_progress(f\"SQL Connection initiated to {db_name}\")\n",
        "        df.to_sql(table_name, conn, if_exists='replace', index=False)\n",
        "        log_progress(f\"Data loaded to database '{db_name}' in table '{table_name}'\")\n",
        "        conn.close()\n",
        "        log_progress(f\"SQL Connection to {db_name} closed successfully\")\n",
        "        print(f\"Data successfully loaded into the '{table_name}' table in database '{db_name}'\")\n",
        "    except Exception as e:\n",
        "        log_progress(f\"Failed to load data into the database: {e}\")\n",
        "        raise\n"
      ],
      "metadata": {
        "id": "IX2wfMHLXUtP"
      },
      "execution_count": 81,
      "outputs": []
    },
    {
      "cell_type": "markdown",
      "source": [
        "# ***Function to execute queries on the database***"
      ],
      "metadata": {
        "id": "nMX4NbUnHRIO"
      }
    },
    {
      "cell_type": "code",
      "source": [
        "def run_queries(query_statement, db_name):\n",
        "    \"\"\"\n",
        "    Executes the given SQL query on the specified database and prints the results.\n",
        "    \"\"\"\n",
        "    try:\n",
        "        # Establish the database connection\n",
        "        conn = sqlite3.connect(db_name)\n",
        "        log_progress(f\"Executing query: {query_statement}\")\n",
        "\n",
        "        # Execute the query and fetch results\n",
        "        query_result = pd.read_sql_query(query_statement, conn)\n",
        "        print(f\"Query:\\n{query_statement}\\n\")\n",
        "        print(\"Output:\")\n",
        "        print(query_result)\n",
        "\n",
        "        # Log the completion of query execution\n",
        "        log_progress(\"Query executed successfully.\")\n",
        "\n",
        "        # Close the connection\n",
        "        conn.close()\n",
        "        log_progress(f\"SQL Connection to {db_name} closed after query execution.\")\n",
        "\n",
        "    except Exception as e:\n",
        "        log_progress(f\"Error while executing query: {e}\")\n",
        "        raise\n",
        "\n",
        "\n",
        "db_name = \"Banks.db\"\n",
        "\n",
        "# Query 1: Print the contents of the entire table\n",
        "query_1 = \"SELECT * FROM Largest_banks\"\n",
        "run_queries(query_1, db_name)\n",
        "\n",
        "# Query 2: Print the average market capitalization in Billion GBP\n",
        "query_2 = \"SELECT AVG(MC_GBP_Billion) FROM Largest_banks\"\n",
        "run_queries(query_2, db_name)\n",
        "\n",
        "# Query 3: Print only the names of the top 5 banks\n",
        "query_3 = \"SELECT Name FROM Largest_banks LIMIT 5\"\n",
        "run_queries(query_3, db_name)\n"
      ],
      "metadata": {
        "colab": {
          "base_uri": "https://localhost:8080/"
        },
        "id": "_b8LQ9HcXjIc",
        "outputId": "95ec9970-9c1c-45af-9dbd-071b2f6e0783"
      },
      "execution_count": 82,
      "outputs": [
        {
          "output_type": "stream",
          "name": "stdout",
          "text": [
            "2024-12-27 03:10:39 : Executing query: SELECT * FROM Largest_banks\n",
            "\n",
            "Query:\n",
            "SELECT * FROM Largest_banks\n",
            "\n",
            "Output:\n",
            "   Rank                                     Name  MC_USD_Billion  \\\n",
            "0     1                           JPMorgan Chase          432.92   \n",
            "1     2                          Bank of America          231.52   \n",
            "2     3  Industrial and Commercial Bank of China          194.56   \n",
            "3     4               Agricultural Bank of China          160.68   \n",
            "4     5                                HDFC Bank          157.91   \n",
            "5     6                              Wells Fargo          155.87   \n",
            "6     7                        HSBC Holdings PLC          148.90   \n",
            "7     8                           Morgan Stanley          140.83   \n",
            "8     9                  China Construction Bank          139.82   \n",
            "9    10                            Bank of China          136.81   \n",
            "\n",
            "   MC_GBP_Billion  MC_EUR_Billion  MC_INR_Billion  \n",
            "0          346.34          402.62        35910.71  \n",
            "1          185.22          215.31        19204.58  \n",
            "2          155.65          180.94        16138.75  \n",
            "3          128.54          149.43        13328.41  \n",
            "4          126.33          146.86        13098.63  \n",
            "5          124.70          144.96        12929.42  \n",
            "6          119.12          138.48        12351.26  \n",
            "7          112.66          130.97        11681.85  \n",
            "8          111.86          130.03        11598.07  \n",
            "9          109.45          127.23        11348.39  \n",
            "2024-12-27 03:10:39 : Query executed successfully.\n",
            "\n",
            "2024-12-27 03:10:39 : SQL Connection to Banks.db closed after query execution.\n",
            "\n",
            "2024-12-27 03:10:39 : Executing query: SELECT AVG(MC_GBP_Billion) FROM Largest_banks\n",
            "\n",
            "Query:\n",
            "SELECT AVG(MC_GBP_Billion) FROM Largest_banks\n",
            "\n",
            "Output:\n",
            "   AVG(MC_GBP_Billion)\n",
            "0              151.987\n",
            "2024-12-27 03:10:39 : Query executed successfully.\n",
            "\n",
            "2024-12-27 03:10:39 : SQL Connection to Banks.db closed after query execution.\n",
            "\n",
            "2024-12-27 03:10:39 : Executing query: SELECT Name FROM Largest_banks LIMIT 5\n",
            "\n",
            "Query:\n",
            "SELECT Name FROM Largest_banks LIMIT 5\n",
            "\n",
            "Output:\n",
            "                                      Name\n",
            "0                           JPMorgan Chase\n",
            "1                          Bank of America\n",
            "2  Industrial and Commercial Bank of China\n",
            "3               Agricultural Bank of China\n",
            "4                                HDFC Bank\n",
            "2024-12-27 03:10:39 : Query executed successfully.\n",
            "\n",
            "2024-12-27 03:10:39 : SQL Connection to Banks.db closed after query execution.\n",
            "\n"
          ]
        }
      ]
    },
    {
      "cell_type": "code",
      "source": [
        "!rm code_log.txt\n"
      ],
      "metadata": {
        "id": "ReLoqLIjXmX_"
      },
      "execution_count": 63,
      "outputs": []
    },
    {
      "cell_type": "code",
      "source": [
        "# Display the contents of the log file\n",
        "!cat code_log.txt\n"
      ],
      "metadata": {
        "colab": {
          "base_uri": "https://localhost:8080/"
        },
        "id": "GlWmCG-0XqCR",
        "outputId": "6a5ee974-c3f1-42a5-854e-c6f7a1671cbd"
      },
      "execution_count": 64,
      "outputs": [
        {
          "output_type": "stream",
          "name": "stdout",
          "text": [
            "cat: code_log.txt: No such file or directory\n"
          ]
        }
      ]
    }
  ]
}